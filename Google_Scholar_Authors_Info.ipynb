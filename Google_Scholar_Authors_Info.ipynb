{
 "cells": [
  {
   "cell_type": "code",
   "execution_count": 1,
   "id": "24743261",
   "metadata": {},
   "outputs": [],
   "source": [
    "import pandas as pd"
   ]
  },
  {
   "cell_type": "code",
   "execution_count": null,
   "id": "e8e32453",
   "metadata": {},
   "outputs": [],
   "source": [
    "from scholarly import scholarly\n",
    "from scholarly import ProxyGenerator"
   ]
  },
  {
   "cell_type": "code",
   "execution_count": null,
   "id": "edd1a268",
   "metadata": {},
   "outputs": [],
   "source": [
    "pg = ProxyGenerator()\n",
    "pg.Tor_Internal(tor_cmd = r'C:\\Users\\sai\\Dropbox\\PC\\Desktop\\Tor Browser\\Browser\\TorBrowser\\Tor\\tor.exe')"
   ]
  },
  {
   "cell_type": "code",
   "execution_count": null,
   "id": "ccf769cd",
   "metadata": {},
   "outputs": [],
   "source": [
    "#from scholarly import scholarly\n",
    "scholarly.use_proxy(pg,pg)"
   ]
  },
  {
   "cell_type": "code",
   "execution_count": null,
   "id": "61199ca8",
   "metadata": {},
   "outputs": [],
   "source": [
    "df_a=pd.read_excel(r\"C:\\Users\\sai\\Dropbox\\PC\\Documents\\googlescholar\\kasra modified final.xlsx\")\n",
    "df_b=pd.DataFrame(df_a)"
   ]
  },
  {
   "cell_type": "code",
   "execution_count": null,
   "id": "0866d639",
   "metadata": {},
   "outputs": [],
   "source": [
    "#Create the unparsed dataframe\n",
    "df1=pd.DataFrame(columns=['SchoolRank','School','Name','CorrectName','NoProfile','gfound','sname', 'saffiliation', 'semail_domain', 'sinterests', 'scitedby', 'spublications','filledPublications', 'filledCoauthors', 'scoauthors', 'scites_per_year', 'scitedby5y', 'shindex', 'shindex5y', 'si10index', 'si10index5y'])"
   ]
  },
  {
   "cell_type": "code",
   "execution_count": null,
   "id": "31398443",
   "metadata": {},
   "outputs": [],
   "source": [
    "df1['SchoolRank']=df_b['SchoolRank']\n",
    "df1['School']=df_b['School']\n",
    "df1['Name']=df_b['Name']\n",
    "df1['CorrectName']=df_b['CorrectName']\n",
    "df1['NoProfile']=df_b['NoProfile']"
   ]
  },
  {
   "cell_type": "code",
   "execution_count": null,
   "id": "e4d51e85",
   "metadata": {},
   "outputs": [],
   "source": [
    "df1['spublications']\n",
    "df1['filledPublications']=[[] for _ in range(len(df1))]\n",
    "df1['failedfill']=[[] for _ in range(len(df1))]\n",
    "df1['filledCoauthors']=[[] for _ in range(len(df1))]"
   ]
  },
  {
   "cell_type": "code",
   "execution_count": null,
   "id": "641dfbb4",
   "metadata": {},
   "outputs": [],
   "source": [
    "from tqdm import tqdm\n",
    "end=0\n",
    "start=df.index.size\n",
    "import numpy as np"
   ]
  },
  {
   "cell_type": "code",
   "execution_count": null,
   "id": "edfffed6",
   "metadata": {},
   "outputs": [],
   "source": [
    "#publication parse\n",
    "\n",
    "def pubparse(x,y,z,index):\n",
    "    #fix this:\n",
    "    #x and y are dataframe columns at df['spublications'][0] index pulled and filled resp.\n",
    "    #print(\"pub len: \",len(x))\n",
    "    title=\"pubs \"+str(index)\n",
    "    pbar=tqdm(total=len(x),desc =title, position = 0)\n",
    "    i=0\n",
    "    while len(x)!=0:\n",
    "        i+=1\n",
    "        #y.append(x[0])\n",
    "        try: \n",
    "            y.append(scholarly.fill(x[0]))\n",
    "        except AttributeError:\n",
    "            z.append(x[0])\n",
    "        x.pop(0)\n",
    "        pbar.update(1)\n",
    "    #print('got: ',i)\n",
    "    return"
   ]
  },
  {
   "cell_type": "code",
   "execution_count": null,
   "id": "3bcdbfbe",
   "metadata": {},
   "outputs": [],
   "source": [
    "# Adding all the authors information into a dataframe\n",
    "for i in range(start,end):\n",
    "    if df1['NoProfile'][i]!=1:\n",
    "        df1.loc[i,'filledPublications'].clear()\n",
    "        df1.loc[i,'filledCoauthors'].clear()\n",
    "        df1.loc[i,'failedfill'].clear()\n",
    "        df1.loc[i,'spublications']=np.nan;\n",
    "        df1.loc[i,'gfound']=False;\n",
    "        df1.loc[i,'sid']=np.nan;\n",
    "        df1.loc[i,'sname']=np.nan;\n",
    "        df1.loc[i,'saffiliation']=np.nan;\n",
    "        df1.loc[i,'semail_domain']=np.nan;\n",
    "        df1.loc[i,'sinterests']=np.nan;\n",
    "        df1.loc[i,'scitedby']=np.nan;\n",
    "        df1.loc[i,'scoauthors']=np.nan;\n",
    "        df1.loc[i,'scites_per_year']=np.nan;\n",
    "        df1.loc[i,'scitedby5y']=np.nan;\n",
    "        df1.loc[i,'shindex']=np.nan;\n",
    "        df1.loc[i,'shindex5y']=np.nan;\n",
    "        df1.loc[i,'si10index']=np.nan;\n",
    "        df1.loc[i,'si10index5y']=np.nan;\n",
    "        if df1['CorrectName'][i]!='nan':\n",
    "            search_query=scholarly.search_author(df1['CorrectName'][i])\n",
    "            iquery=next(search_query,False)\n",
    "            results=scholarly.fill(iquery)\n",
    "            for col in df1.columns:\n",
    "                key=col[1:]\n",
    "                if key in list(results.keys()):\n",
    "                    df1.at[i,col]=results[key]\n",
    "            pubparse(df1['spublications'][i],df1['filledPublications'][i],df1['failedfill'][i],i)\n",
    "        elif df1['CorrectName'][i]=='nan':\n",
    "            search_query=scholarly.search_author(df1['sname'][i])\n",
    "            iquery=next(search_query,False)\n",
    "            results=scholarly.fill(iquery)\n",
    "            for col in df1.columns:\n",
    "                key=col[1:]\n",
    "                if key in list(results.keys()):\n",
    "                    df1.at[i,col]=results[key]\n",
    "            pubparse(df1['spublications'][i],df1['filledPublications'][i],df1['failedfill'][i],i)\n",
    "    else:\n",
    "        df1.loc[i,'filledPublications'].clear()\n",
    "        df1.loc[i,'filledCoauthors'].clear()\n",
    "        df1.loc[i,'failedfill'].clear()\n",
    "        df1.loc[i,'spublications']=np.nan;\n",
    "        df1.loc[i,'gfound']=False;\n",
    "        df1.loc[i,'sid']=np.nan;\n",
    "        df1.loc[i,'sname']=np.nan;\n",
    "        df1.loc[i,'saffiliation']=np.nan;\n",
    "        df1.loc[i,'semail_domain']=np.nan;\n",
    "        df1.loc[i,'sinterests']=np.nan;\n",
    "        df1.loc[i,'scitedby']=np.nan;\n",
    "        df1.loc[i,'scoauthors']=np.nan;\n",
    "        df1.loc[i,'scites_per_year']=np.nan;\n",
    "        df1.loc[i,'scitedby5y']=np.nan;\n",
    "        df1.loc[i,'shindex']=np.nan;\n",
    "        df1.loc[i,'shindex5y']=np.nan;\n",
    "        df1.loc[i,'si10index']=np.nan;\n",
    "        df1.loc[i,'si10index5y']=np.nan;\n",
    "        continue"
   ]
  },
  {
   "cell_type": "code",
   "execution_count": null,
   "id": "3d29f1bc",
   "metadata": {},
   "outputs": [],
   "source": [
    "df1.to_pickle(r\"C:\\Users\\sai\\Dropbox\\PC\\Documents\\googlescholar\\temp_k.pkl\")"
   ]
  },
  {
   "cell_type": "code",
   "execution_count": null,
   "id": "2360cbf4",
   "metadata": {},
   "outputs": [],
   "source": [
    "df2=pd.DataFrame()"
   ]
  },
  {
   "cell_type": "code",
   "execution_count": null,
   "id": "84d9ad0b",
   "metadata": {},
   "outputs": [],
   "source": [
    "df2['h-index']=[df1['shindex'][i] for i in range(len(df1))]\n",
    "df2['i10-index']=[df1['si10index'][i] for i in range(len(df1))]"
   ]
  },
  {
   "cell_type": "code",
   "execution_count": null,
   "id": "a0af9ca4",
   "metadata": {},
   "outputs": [],
   "source": [
    "df2=df2.fillna(0)\n",
    "df2['h-index']=df2['h-index'].astype(int)\n",
    "df2['i10-index']=df2['i10-index'].astype(int)"
   ]
  },
  {
   "cell_type": "code",
   "execution_count": null,
   "id": "c7bf6c5b",
   "metadata": {},
   "outputs": [],
   "source": [
    "df2['Publications']=[len(df1['filledPublications'][i]) for i in range(len(df1))]\n",
    "df2['Total Citation']=[df1['scitedby'][i] for i in range(len(df1))]"
   ]
  },
  {
   "cell_type": "code",
   "execution_count": null,
   "id": "0d58eac9",
   "metadata": {},
   "outputs": [],
   "source": [
    "df2=df2.fillna(0)\n",
    "df2['Total Citation']=df2['Total Citation'].astype(int)"
   ]
  },
  {
   "cell_type": "code",
   "execution_count": null,
   "id": "ffe27eab",
   "metadata": {},
   "outputs": [],
   "source": [
    "j=pd.read_excel(r\"C:\\Users\\sai\\Dropbox\\PC\\Documents\\googlescholar\\journal_ranking.xlsx\")\n",
    "df_j=pd.DataFrame(j)"
   ]
  },
  {
   "cell_type": "code",
   "execution_count": null,
   "id": "b4fdddcc",
   "metadata": {},
   "outputs": [],
   "source": [
    "df3=pd.DataFrame()\n",
    "df3['Publications']=df2['Publications']\n",
    "df3['filledPublications']=df1['filledPublications']\n",
    "df3.head()"
   ]
  },
  {
   "cell_type": "code",
   "execution_count": null,
   "id": "4e987916",
   "metadata": {},
   "outputs": [],
   "source": [
    "df3['pubs_in_top_5_journals']=0\n",
    "df3['pubs_in_6-20_journals']=0\n",
    "df3['pubs_in_21-50_journals']=0\n",
    "df3['pubs_in_51-100_journals']=0\n",
    "df3['pubs_in_101-500_journals']=0"
   ]
  },
  {
   "cell_type": "code",
   "execution_count": null,
   "id": "cd8a4474",
   "metadata": {},
   "outputs": [],
   "source": [
    "start=0\n",
    "end=df3.index.size\n",
    "j_start=0\n",
    "j_end=df_j.index.size\n",
    "for i in range(start,end):\n",
    "    if df3['Publications'][i]!=0:\n",
    "        for j in range(0,len(df3['filledPublications'][i])):\n",
    "            journal_name=df3['filledPublications'][i][j].get('bib').get('journal')\n",
    "            if journal_name!=None:\n",
    "                journal=journal_name.lower().strip()\n",
    "                for k in range(j_start,j_end):\n",
    "                    if df_j['journalname'][k]==journal:\n",
    "                        journal_rank=df_j['ranking'][k]\n",
    "                        if journal_rank<=5:\n",
    "                            df3.at[i,'pubs_in_top_5_journals']=df3['pubs_in_top_5_journals'][i]+1\n",
    "                        elif journal_rank>=6 and journal_rank<=20:\n",
    "                            df3.at[i,'pubs_in_6-20_journals']=df3['pubs_in_6-20_journals'][i]+1\n",
    "                        elif journal_rank>=21 and journal_rank<=50:\n",
    "                            df3.at[i,'pubs_in_21-50_journals']=df3['pubs_in_21-50_journals'][i]+1\n",
    "                        elif journal_rank>=51 and journal_rank<=100:\n",
    "                            df3.at[i,'pubs_in_51-100_journals']=df3['pubs_in_51-100_journals'][i]+1\n",
    "                        elif journal_rank>=101 and journal_rank<=500:\n",
    "                            df3.at[i,'pubs_in_101-500_journals']=df3['pubs_in_101-500_journals'][i]+1\n",
    "                    else:\n",
    "                        continue\n",
    "            else:\n",
    "                continue"
   ]
  },
  {
   "cell_type": "code",
   "execution_count": null,
   "id": "b0051446",
   "metadata": {},
   "outputs": [],
   "source": [
    "df2['pubs_in_top_5_journals']=df3['pubs_in_top_5_journals']\n",
    "df2['pubs_in_6-20_journals']=df3['pubs_in_6-20_journals']\n",
    "df2['pubs_in_21-50_journals']=df3['pubs_in_21-50_journals']\n",
    "df2['pubs_in_51-100_journals']=df3['pubs_in_51-100_journals']\n",
    "df2['pubs_in_101-500_journals']=df3['pubs_in_101-500_journals']\n",
    "df2['CorrectName']=df1['CorrectName']\n",
    "df2['NoProfile']=df1['NoProfile']\n",
    "df2.head()"
   ]
  },
  {
   "cell_type": "code",
   "execution_count": null,
   "id": "e622d168",
   "metadata": {},
   "outputs": [],
   "source": [
    "from tqdm import tqdm\n",
    "start=0\n",
    "end=df1.index.size"
   ]
  },
  {
   "cell_type": "code",
   "execution_count": null,
   "id": "303f6978",
   "metadata": {},
   "outputs": [],
   "source": [
    "for i in tqdm(range(start,end)):\n",
    "    if type(df1['filledCoauthors'][i])==dict:\n",
    "        keys=list(df1['filledCoauthors'][i].keys())\n",
    "        aDict=df1['filledCoauthors'][i]\n",
    "        for a in keys:\n",
    "            if len(a.split()[0])!=2:\n",
    "                fnameonly=[x for x in keys if x.split()[0][0]+\" \"+\" \".join(x.split()[1:])==a]\n",
    "                if len(fnameonly)==1:\n",
    "                    continue\n",
    "                elif len(fnameonly)==2:\n",
    "                    if len(fnameonly[0].split()[0])==2:\n",
    "                        aDict[fnameonly[0]]=aDict[fnameonly[0]]+aDict[fnameonly[1]]\n",
    "                        del aDict[fnameonly[1]]\n",
    "                    else:\n",
    "                        aDict[fnameonly[1]]=aDict[fnameonly[1]]+aDict[fnameonly[0]]\n",
    "                        del aDict[fnameonly[0]]\n",
    "                else:\n",
    "                    choices=[x for x in fnameonly if x!=a]\n",
    "                    vals=[aDict[x] for x in choices]\n",
    "                    aDict[choices[vals.index(max(vals))]]=aDict[choices[vals.index(max(vals))]]+aDict[a]\n",
    "                    del aDict[a]\n",
    "        df1.at[i,'filledCoauthors']=aDict"
   ]
  },
  {
   "cell_type": "code",
   "execution_count": null,
   "id": "0c1a7d24",
   "metadata": {},
   "outputs": [],
   "source": [
    "for i in tqdm(range(start,end)):\n",
    "    fixedlist=df1['coauthors_list'][i]\n",
    "    for p in fixedlist:\n",
    "        j=0\n",
    "        for a in fixedlist[p]:\n",
    "            if a not in df1['filledCoauthors'][i]:\n",
    "                choices=[x for x in [x for x in list(df1['filledCoauthors'][i].keys()) if x.split()[0][0]+\" \"+\" \".join(x.split()[1:])==a] if x!=a]\n",
    "                vals=[df1['filledCoauthors'][i][x] for x in choices]\n",
    "                fixedlist[p][j]=choices[vals.index(max(vals))]\n",
    "    #             print(choices,vals)\n",
    "            j+=1"
   ]
  },
  {
   "cell_type": "code",
   "execution_count": null,
   "id": "7531c031",
   "metadata": {},
   "outputs": [],
   "source": [
    "for i in range(start, end):\n",
    "    if type(df1['filledCoauthors'][i])==dict:\n",
    "        keys=df1['filledCoauthors'][i].keys()\n",
    "        df1.at[i, 'l_coauthors']=len(keys)"
   ]
  },
  {
   "cell_type": "code",
   "execution_count": null,
   "id": "209c0094",
   "metadata": {},
   "outputs": [],
   "source": [
    "for i in range(start, end):\n",
    "    if df1['NoProfile'][i]!=1 and df1['l_coauthors'][i]==0:\n",
    "        print(i)"
   ]
  },
  {
   "cell_type": "code",
   "execution_count": null,
   "id": "595d0041",
   "metadata": {},
   "outputs": [],
   "source": [
    "# There is an issue finding coauthors for some authors(91, 788, 875, 1348)\n",
    "a=[]\n",
    "b=[]\n",
    "c=[]\n",
    "for i in df1['filledPublications'][91]:\n",
    "    try:\n",
    "        a.append(i['bib']['author'])\n",
    "    except KeyError:\n",
    "        print(\"Key Error\")\n",
    "for i in a:\n",
    "    i=i.replace(\" and \", \":\")\n",
    "    b.append(i.split(\":\"))\n",
    "for i in b:\n",
    "     for j in i:\n",
    "        c.append(j)"
   ]
  },
  {
   "cell_type": "code",
   "execution_count": null,
   "id": "0058887e",
   "metadata": {},
   "outputs": [],
   "source": [
    "# Removing duplicates\n",
    "c=set(c)\n",
    "print(len(c))"
   ]
  },
  {
   "cell_type": "code",
   "execution_count": null,
   "id": "bfd605a8",
   "metadata": {},
   "outputs": [],
   "source": [
    "df1['l_coauthors'][91]=4643\n",
    "df1['l_coauthors'][788]= 566\n",
    "df1['l_coauthors'][875]=1245\n",
    "df1['l_coauthors'][1348]=736"
   ]
  },
  {
   "cell_type": "code",
   "execution_count": null,
   "id": "f8818e86",
   "metadata": {},
   "outputs": [],
   "source": [
    "df_final['CorrectName']=df_2['CorrectName']\n",
    "df_final['NoProfile']=df_2['NoProfile']\n",
    "df_final['Publications']=df_2['Publications']\n",
    "df_final['pubs_in_top_5_journals']=df_2['pubs_in_top_5_journals']\n",
    "df_final['pubs_in_6-20_journals']=df_2['pubs_in_6-20_journals']\n",
    "df_final['pubs_in_21-50_journals']=df_2['pubs_in_21-50_journals']\n",
    "df_final['pubs_in_51-100_journals']=df_2['pubs_in_51-100_journals']\n",
    "df_final['pubs_in_101-500_journals']=df_2['pubs_in_101-500_journals']\n",
    "df_final['h-index']=df_2['h-index']\n",
    "df_final['i10-index']=df_2['i10-index']\n",
    "df_final['Total Citation']=df_2['Total Citation']\n",
    "df_final['Coauthors']=df1['l_coauthors']"
   ]
  },
  {
   "cell_type": "code",
   "execution_count": null,
   "id": "4e7f838f",
   "metadata": {},
   "outputs": [],
   "source": [
    "df_fi.to_excel(r\"C:\\Users\\sai\\Dropbox\\PC\\Documents\\googlescholar\\Publications_and_Coauthors.xlsx\")"
   ]
  }
 ],
 "metadata": {
  "kernelspec": {
   "display_name": "Python 3 (ipykernel)",
   "language": "python",
   "name": "python3"
  },
  "language_info": {
   "codemirror_mode": {
    "name": "ipython",
    "version": 3
   },
   "file_extension": ".py",
   "mimetype": "text/x-python",
   "name": "python",
   "nbconvert_exporter": "python",
   "pygments_lexer": "ipython3",
   "version": "3.9.7"
  }
 },
 "nbformat": 4,
 "nbformat_minor": 5
}
